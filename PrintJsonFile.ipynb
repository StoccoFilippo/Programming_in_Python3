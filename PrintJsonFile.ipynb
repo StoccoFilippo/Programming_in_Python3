{
 "cells": [
  {
   "cell_type": "code",
   "execution_count": 7,
   "id": "e2f045c7-34da-41ab-9a2f-f550423c1f6b",
   "metadata": {},
   "outputs": [
    {
     "name": "stdout",
     "output_type": "stream",
     "text": [
      "gibsonlara@incubus.com\n",
      "monaheath@tropolis.com\n",
      "hollandoliver@electonic.com\n",
      "owenruiz@overfork.com\n",
      "dellawall@ziggles.com\n",
      "schultzkeith@assurity.com\n"
     ]
    }
   ],
   "source": [
    "import json\n",
    "\n",
    "filename=\"c:\\\\Users\\\\Filippo\\\\Desktop\\\\Python\\\\Data\\\\05_email_data.json\"\n",
    "\n",
    "with open(filename, \"r\") as file:\n",
    "    data=json.load(file)\n",
    "\n",
    "for users in range(len(data)):\n",
    "    print(data[users][\"email\"])\n",
    "\n"
   ]
  }
 ],
 "metadata": {
  "kernelspec": {
   "display_name": "Python 3 (ipykernel)",
   "language": "python",
   "name": "python3"
  },
  "language_info": {
   "codemirror_mode": {
    "name": "ipython",
    "version": 3
   },
   "file_extension": ".py",
   "mimetype": "text/x-python",
   "name": "python",
   "nbconvert_exporter": "python",
   "pygments_lexer": "ipython3",
   "version": "3.11.3"
  }
 },
 "nbformat": 4,
 "nbformat_minor": 5
}
