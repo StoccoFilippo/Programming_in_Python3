{
 "cells": [
  {
   "cell_type": "code",
   "execution_count": 60,
   "id": "f910fa4d-7871-4217-aa73-dfe0d6a5374d",
   "metadata": {},
   "outputs": [
    {
     "name": "stdout",
     "output_type": "stream",
     "text": [
      "The file<_io.TextIOWrapper name='c:\\\\Users\\\\Filippo\\\\Desktop\\\\Python\\\\Data\\\\03_list2.txt' mode='r' encoding='cp1252'>, contains this list:\n",
      "\n",
      "1: Il sole tramonta sull'orizzonte\n",
      "\n",
      "2: Un gatto nero si muove furtivo nell'ombra\n",
      "\n",
      "3: Una rosa rossa sboccia nel giardino\n",
      "\n",
      "4: Un violino suona una dolce melodia\n",
      "\n",
      "5: Una cascata scroscia tra le rocce\n",
      "\n",
      "The file<_io.TextIOWrapper name='c:\\\\Users\\\\Filippo\\\\Desktop\\\\Python\\\\Data\\\\03_list1.txt' mode='r' encoding='cp1252'>, contains this list:\n",
      "\n",
      "1: Il sole splende nel cielo\n",
      "\n",
      "2: Un gatto nero si muove furtivo nell'ombra\n",
      "\n",
      "3: Una cascata scroscia tra le rocce\n",
      "\n",
      "4: Un violino suona una dolce melodia\n",
      "\n",
      "5: Un quadro antico decora la parete\n",
      "\n",
      "The file<_io.TextIOWrapper name='c:\\\\Users\\\\Filippo\\\\Desktop\\\\Python\\\\Data\\\\03_list3.txt' mode='r' encoding='cp1252'> has been created and it contains this list:\n",
      "\n",
      "1: Un violino suona una dolce melodia\n",
      "\n",
      "2: Una cascata scroscia tra le rocce\n",
      "\n",
      "3: Un gatto nero si muove furtivo nell'ombra\n",
      "\n"
     ]
    }
   ],
   "source": [
    "common_lines=[]\n",
    "\n",
    "with open(\"c:\\\\Users\\\\Filippo\\\\Desktop\\\\Python\\\\Data\\\\03_list1.txt\") as file1:\n",
    "    lines_file1=file1.readlines()\n",
    "with open(\"c:\\\\Users\\\\Filippo\\\\Desktop\\\\Python\\\\Data\\\\03_list2.txt\") as file2: \n",
    "    lines_file2=file2.readlines()\n",
    "\n",
    "index=1\n",
    "print(\"The file{0}, contains this list:\\n\".format(file2))\n",
    "for line in lines_file2:\n",
    "    print(\"{0}: {1}\".format(index,line))\n",
    "    index+=1\n",
    "\n",
    "\n",
    "index=1\n",
    "print(\"The file{0}, contains this list:\\n\".format(file1))\n",
    "for line in lines_file1:\n",
    "    print(\"{0}: {1}\".format(index,line))\n",
    "    index+=1\n",
    "\n",
    "\n",
    "start=-1\n",
    "\n",
    "while start!=-len(lines_file1):\n",
    "    if lines_file1[start] in lines_file2:\n",
    "        common_lines.append(lines_file1[start])\n",
    "\n",
    "       \n",
    "           \n",
    "    start-=1\n",
    "\n",
    "\n",
    "with open(\"c:\\\\Users\\\\Filippo\\\\Desktop\\\\Python\\\\Data\\\\03_list3.txt\", \"w\") as file3:\n",
    "    for common_line in common_lines:\n",
    "        file3.write(common_line)\n",
    "    file3.close\n",
    "\n",
    "with open(\"c:\\\\Users\\\\Filippo\\\\Desktop\\\\Python\\\\Data\\\\03_list3.txt\", \"r\") as file3:\n",
    "    common_line=file3.readlines()\n",
    "index=1\n",
    "print(\"The file{0} has been created and it contains this list:\\n\".format(file3))\n",
    "for line in common_line:\n",
    "    print(\"{0}: {1}\".format(index,line))\n",
    "    index+=1\n",
    "    "
   ]
  },
  {
   "cell_type": "code",
   "execution_count": 52,
   "id": "035b0844-d6fa-4927-93c8-294e297d53b9",
   "metadata": {},
   "outputs": [
    {
     "name": "stdout",
     "output_type": "stream",
     "text": [
      "['Un violino suona una dolce melodia\\n', 'Una cascata scroscia tra le rocce\\n', \"Un gatto nero si muove furtivo nell'ombra\\n\"]\n",
      "['Un violino suona una dolce melodia\\n', 'Una cascata scroscia tra le rocce\\n', \"Un gatto nero si muove furtivo nell'ombra\\n\"]\n"
     ]
    }
   ],
   "source": [
    "common_line=[]\n",
    "start=-1\n",
    "while start!=-len(lines_file1):\n",
    "    if lines_file1[start] in lines_file2:\n",
    "        common_line.append(lines_file1[start])\n",
    "\n",
    "       \n",
    "           \n",
    "    start-=1\n",
    "\n",
    "print(common_line)\n",
    "with open(\"c:\\\\Users\\\\Filippo\\\\Desktop\\\\Python\\\\Data\\\\03_list3.txt\", \"w\") as file3:\n",
    "    for lines in common_line:\n",
    "        file3.write(lines)\n",
    "    file3.close\n",
    "\n",
    "with open(\"c:\\\\Users\\\\Filippo\\\\Desktop\\\\Python\\\\Data\\\\03_list3.txt\", \"r\") as file3:\n",
    "    lines=file3.readlines()\n",
    "    print(lines)\n",
    "\n",
    "\n",
    "\n",
    "\n"
   ]
  },
  {
   "cell_type": "code",
   "execution_count": null,
   "id": "f2548de9-f0da-4607-bb4a-11747c6d81ef",
   "metadata": {},
   "outputs": [],
   "source": []
  }
 ],
 "metadata": {
  "kernelspec": {
   "display_name": "Python 3 (ipykernel)",
   "language": "python",
   "name": "python3"
  },
  "language_info": {
   "codemirror_mode": {
    "name": "ipython",
    "version": 3
   },
   "file_extension": ".py",
   "mimetype": "text/x-python",
   "name": "python",
   "nbconvert_exporter": "python",
   "pygments_lexer": "ipython3",
   "version": "3.11.3"
  }
 },
 "nbformat": 4,
 "nbformat_minor": 5
}
