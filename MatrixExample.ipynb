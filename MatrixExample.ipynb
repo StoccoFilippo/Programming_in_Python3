{
 "cells": [
  {
   "cell_type": "code",
   "execution_count": 7,
   "id": "ef3a7cf8-38ea-4ba0-8ac2-b523a1aa9fd3",
   "metadata": {},
   "outputs": [
    {
     "name": "stdout",
     "output_type": "stream",
     "text": [
      "[[5, 0, 0], [0, 2, 0], [0, 0, 8]]\n"
     ]
    }
   ],
   "source": [
    "l1 = [2,1,3]\n",
    "l2 = [3,1,5]\n",
    "matrix2=[]\n",
    "temp_list=[]\n",
    "j=0\n",
    "i=0\n",
    "matrix3=[]\n",
    "\n",
    "matrix2 = []\n",
    "for i in range(len(l1)):\n",
    "\tmatrix2.append([0]*len(l1))\n",
    "\tfor j in range(len(l2)):\n",
    "\t\tif i == j:\n",
    "\t\t\tmatrix2[i][j] = l1[i] + l2[j]\n",
    "\n",
    "print(matrix2)\n",
    "    "
   ]
  },
  {
   "cell_type": "code",
   "execution_count": 10,
   "id": "04b86984-49c1-4be4-b9fb-4308948153ab",
   "metadata": {},
   "outputs": [
    {
     "data": {
      "text/plain": [
       "[['xxxxx']]"
      ]
     },
     "execution_count": 10,
     "metadata": {},
     "output_type": "execute_result"
    }
   ],
   "source": [
    "matrix3=[]\n",
    "matrix3.append([\"x\"*5])\n",
    "matrix3"
   ]
  }
 ],
 "metadata": {
  "kernelspec": {
   "display_name": "Python 3 (ipykernel)",
   "language": "python",
   "name": "python3"
  },
  "language_info": {
   "codemirror_mode": {
    "name": "ipython",
    "version": 3
   },
   "file_extension": ".py",
   "mimetype": "text/x-python",
   "name": "python",
   "nbconvert_exporter": "python",
   "pygments_lexer": "ipython3",
   "version": "3.11.3"
  }
 },
 "nbformat": 4,
 "nbformat_minor": 5
}
